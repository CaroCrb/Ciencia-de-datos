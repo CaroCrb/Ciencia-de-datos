{
 "cells": [
  {
   "cell_type": "markdown",
   "id": "5460c487",
   "metadata": {},
   "source": [
    "## Tarea 1: Repaso de los conceptos básicos de Python\n",
    "### Ciencia de datos para físicos: Facultad de ciencias, UNAM\n",
    "#### Profesores: Karen Rubí Jiménez-López, Pedro Arturo Flores-Silva\n",
    "\n",
    "**Instrucciones:** Este notebook contiene una serie de ejercicios que deben ser resueltos. Cada ejercicio se encuentra en una celda, ya sea de código o Markdown. Debes crear una o dos *celdas debajo de cada ejercicio* con tu(s) respectiva(s) respuestas. No modifiques las celdas originales.\n",
    "\n",
    "Recuerda que para ejecutar el código de una celda, presionar `Ctlr + Enter` o bien el boton de `play` en el editor Jupyter notebook.\n",
    "\n",
    "Cada ejercicio tendrá diferente valor, y se indicará en la celda de éste. La calificación final será la suma de los puntos obtenidos en cada ejercicio. Se calificará considerando la calidad de la respuesta, la claridad de la explicación y la correctitud del código. Por ejemplo, si el código no ejecuta la respuesta correcta pero se da una idea textual, se demuestra que hay comprensión del problema y el código hace sentido para el revisor, se otorgará una calificación parcial. Esto es, las respuestas no solo se evaluarán como bien o mal, sino que se considerará el esfuerzo.\n",
    "\n",
    "El codigo que realices debes comentarlo donde creas necesario, no vale no hacer ningún comentario. Recuerda que los comentarios son importantes para que el código sea legible y entendible, éstos se agregan con el símbolo #. Para las funciones y/o clases que crees, agrega la documentación correspondiente (docstring), éste se agrega con `\"\"\" docstring \"\"\"`."
   ]
  },
  {
   "cell_type": "markdown",
   "id": "66df713a",
   "metadata": {},
   "source": [
    "### Ejercicio 1 (1 punto):\n",
    "En una celda Markdown contesta: \n",
    "* ¿Qué es una palabra reservada en python? Enlista 5 ejemplos de nombres reservados en python y describe su función.\n",
    "* Coloca tres ejemplos de nombres de variables que no son válidos en python. Explica por qué no son válidos."
   ]
  },
  {
   "cell_type": "markdown",
   "id": "70a25846",
   "metadata": {},
   "source": [
    "Las **palabras reservadas** son aquellas que, por defecto, ya cumplen alguna función especifica dentro del lenguaje de python. Por esta razón, no está permitido colocar estas palabras como el nombre de alguna variable, pues python no sabría en realidad si ejecutarla como la variable que estás eligiendo o ejecutarla como ese valor específico que tenía desde un inicio (por lo tanto se te marcará como error).<br>\n",
    "Algunos ejemplos de nombres reservados son:\n",
    "1. Class: Se usa para definir una nueva clase definida por el usuario.\n",
    "2. For: Utilizado para hacer bucles.\n",
    "3. True: Valor booleano (se usa para hacer comparaciones u operaciones lógicas)\n",
    "4. False: Valor booleano (se usa para hacer comparaciones u operaciones lógicas)\n",
    "5. Elif: Se usa en declaraciones condicionales (algo así como la mezcla de 'else' e 'if')\n",
    "\n",
    "Algunas variables que no serían válidas en python serían:\n",
    "1. True=5+7\n",
    "2. Elif=8*9\n",
    "3. Class=print(\"Escribe dos números\")\n",
    "\n",
    "La invalidez radica en que todas las variables tienen un nombre ya **reservado** por python, por lo que no dejará que el código se ejecute (podemos ver un poco más arriba cuál es exactamente la función que tiene cada una).\n"
   ]
  },
  {
   "cell_type": "markdown",
   "id": "8f4fd89b",
   "metadata": {},
   "source": [
    "### Ejercicio 2 (1 punto):\n",
    "\n",
    "En una celda de código, escribe una función que encuentre las raíces de cualquier polinomio de segundo grado (implementar la chicharronera). En una celda markdown detalla posibles casos en la cual la función podría fallar.\n",
    "Usa dicha función para encontrar las raíces del polinomio $f(x) = 10x^2 - 2x$ e imprimelas en pantalla."
   ]
  },
  {
   "cell_type": "code",
   "execution_count": 1,
   "id": "29a35d0c",
   "metadata": {},
   "outputs": [
    {
     "name": "stdout",
     "output_type": "stream",
     "text": [
      "Ingresa los coeficientes de tu polinomio de segundo grado con el siguiente formato\n",
      "raices('coeficiente a', 'coeficiente b', 'coeficiente c')\n",
      "Ejemplo del polinomio 3x^2+4x+2: raices(3,4,2)\n"
     ]
    },
    {
     "data": {
      "text/plain": [
       "{'La primera raíz es': 0.2, 'la segunda raíz es': 0.0}"
      ]
     },
     "execution_count": 1,
     "metadata": {},
     "output_type": "execute_result"
    }
   ],
   "source": [
    "from math import sqrt\n",
    "\n",
    "#Esta función nos da las raíces de cualquier polinomio de segundo grado ingresando solo los coeficientes\n",
    "\n",
    "print(\"Ingresa los coeficientes reales de tu polinomio de segundo grado con el siguiente formato\")\n",
    "print(\"raices('coeficiente a', 'coeficiente b', 'coeficiente c')\")\n",
    "print(\"Ejemplo del polinomio 3x^2+4x+2: raices(3,4,2)\")\n",
    "\n",
    "def raices(a,b,c):\n",
    "    resultado1=(-b+sqrt(b**2-(4*a*c)))/(2*a) #Resultado utilizando la raíz positiva\n",
    "    resultado2=(-b-sqrt(b**2-(4*a*c)))/(2*a) #Resultado utilizando la raíz negativa\n",
    "    return{'La primera raíz es': resultado1, 'la segunda raíz es': resultado2}\n",
    "\n",
    "#Escribiendo los coeficientes de f(x)=10x^2-2x\n",
    "\n",
    "raices(10,-2,0)"
   ]
  },
  {
   "cell_type": "markdown",
   "id": "0d19fc0c",
   "metadata": {},
   "source": [
    "La función puede fallar (y va a fallar) en caso de que las soluciones impliquen números imaginarios o complejos, pues en ningún momento estamos metiendo a *complex*, lo cual es necesario si queremos definir números en este campo. \n",
    "Además de esto, la función *raices* solo está trabajando con números reales pues se piden coeficientes reales desde un inicio.\n",
    "\n",
    "La función también fallará si se introducen solamente coeficientes con valor de cero ya que no está preparada para las indeterminaciones (aunque si alguien quiere resolver una ecuación de segundo grado, ¿por qué metería solamente ceros?)"
   ]
  },
  {
   "cell_type": "markdown",
   "id": "7610c62b",
   "metadata": {},
   "source": [
    "### Ejercicio 3 (1 punto):\n",
    "\n",
    "*Caida libre*: El gran Galileo Galilei subió la torre de Pisa para determinar el tiempo que tarda un objeto en caer desde una altura $H$ al suelo. Para ello, colocó un objeto de masa $m=100$ kg en la torre y lo dejó caer. El tiempo que tardó en caer fue $t=0.05616667$ minutos.\n",
    "\n",
    "Considerando que la aceleración de la gravedad es $g=9.8$ $\\frac{m}{s^2}$, escribe un programa que determine la altura de la torre de Pisa. El programa debe imprimir la altura en la pantalla.\n",
    "\n",
    "Recuerda que el movimiento de caída libre simplificado cumple la ecuación: $y(t) = H + vt - \\frac{1}{2}gt^2$."
   ]
  },
  {
   "cell_type": "code",
   "execution_count": 2,
   "id": "c667b6d0",
   "metadata": {},
   "outputs": [
    {
     "name": "stdout",
     "output_type": "stream",
     "text": [
      "La altura de la Torre de Pisa es: 55.64881660520019 m\n"
     ]
    }
   ],
   "source": [
    "#Calculando la altura de la Torre de Pisa\n",
    "#Queremos hallar la altura H\n",
    "\n",
    "m=100 #La masa nos es indiferente pues estamos en caída libre \n",
    "#Cambiamos los 0.05616667 minutos a segundos\n",
    "t=3.3700002\n",
    "g=9.8 \n",
    "y=0 #Pues el objeto llega hasta el piso\n",
    "v=0 #Velocidad inicial igual a cero porque parte del reposo\n",
    "\n",
    "\n",
    "altura=y+(1/2)*g*(t**2)\n",
    "\n",
    "\n",
    "print(f'La altura de la Torre de Pisa es: {altura} m')\n",
    "\n"
   ]
  },
  {
   "cell_type": "markdown",
   "id": "bf2d28e7",
   "metadata": {},
   "source": [
    "### Ejercicio 4 (1 punto):\n",
    "Crea una lista de números enteros del 0 al 99 : `lista = [0,1, 2, 3, 4, ... , 95, 96, 97, 98, 99]` (6 puntos menos si creas la lista manualmente).\n",
    " \n",
    "Escribe un programa que imprima en la pantalla una la lista que cumpla con las siguientes condiciones:\n",
    "* Los ultimos 10 elementos: debe imprimir lo siguiente `[90, 91, 92, 93, 94, 95, 96, 97, 98, 99]`.\n",
    "* Los primeros 11 elementos: debe imprimir lo siguiente `[0, 1, 2, 3, 4, 5, 6, 7, 8, 9, 10]`.\n",
    "* La serie de elementos de la lista que están entre 60 y 75: debe imprimir lo siguiente `[60, 61, 62, 63, 64, 65, 66, 67, 68, 69, 70, 71, 72, 73, 74, 75]`.\n",
    "* El número 50: debe imprimir lo siguiente `50`.\n",
    "\n",
    "Debes aplicar el concepto de *slicing* para resolver este ejercicio (notación de puntos `[:]`).\n",
    "\n",
    "Puntos menos si se crean listas nuevas para cada caso y/o se seleccionan manualmente los valores."
   ]
  },
  {
   "cell_type": "code",
   "execution_count": 3,
   "id": "1640f53d",
   "metadata": {},
   "outputs": [
    {
     "name": "stdout",
     "output_type": "stream",
     "text": [
      "[0, 1, 2, 3, 4, 5, 6, 7, 8, 9, 10, 11, 12, 13, 14, 15, 16, 17, 18, 19, 20, 21, 22, 23, 24, 25, 26, 27, 28, 29, 30, 31, 32, 33, 34, 35, 36, 37, 38, 39, 40, 41, 42, 43, 44, 45, 46, 47, 48, 49, 50, 51, 52, 53, 54, 55, 56, 57, 58, 59, 60, 61, 62, 63, 64, 65, 66, 67, 68, 69, 70, 71, 72, 73, 74, 75, 76, 77, 78, 79, 80, 81, 82, 83, 84, 85, 86, 87, 88, 89, 90, 91, 92, 93, 94, 95, 96, 97, 98, 99]\n",
      "[90, 91, 92, 93, 94, 95, 96, 97, 98, 99]\n",
      "[0, 1, 2, 3, 4, 5, 6, 7, 8, 9, 10]\n",
      "[60, 61, 62, 63, 64, 65, 66, 67, 68, 69, 70, 71, 72, 73, 74, 75]\n",
      "50\n"
     ]
    }
   ],
   "source": [
    "#Lista de números enteros de 0 a 99\n",
    "lista=list(range(0,100,1))\n",
    "print(lista)\n",
    "\n",
    "#Imprimiendo los últimos 10 elementos de la lista\n",
    "lista2=lista[-10:]\n",
    "print(lista2)\n",
    "\n",
    "#Imprimiendo los primeros 11 elementos\n",
    "lista3=lista[:11]\n",
    "print(lista3)\n",
    "\n",
    "#Imprimiendo los elementos de la lista que están entre 60 y 75\n",
    "lista4=lista[60:76]\n",
    "print(lista4)\n",
    "\n",
    "#Imprimiendo el número 50, en este caso el elemento 50 resulta ser el número 50\n",
    "print(lista[50])"
   ]
  },
  {
   "cell_type": "markdown",
   "id": "ac5b94d8",
   "metadata": {},
   "source": [
    "### Ejercicio 5 (1 punto):\n",
    "Crea una lista de números enteros del 0 al 1000. A partir de dicha lista:\n",
    "* Guarda en una variable una lista con los números pares usando ciclos y condicionales. Imprime los últimos 10 elementos de la lista final.\n",
    "* Guarda en una variable una lista con los números impares usando listas comprensivas (comprehension list). Imprime los primeros 10 elementos de la lista final."
   ]
  },
  {
   "cell_type": "code",
   "execution_count": 1,
   "id": "b71916e3",
   "metadata": {},
   "outputs": [
    {
     "name": "stdout",
     "output_type": "stream",
     "text": [
      "[982, 984, 986, 988, 990, 992, 994, 996, 998, 1000]\n",
      "[1, 3, 5, 7, 9, 11, 13, 15, 17, 19]\n"
     ]
    }
   ],
   "source": [
    "#Lista con número enteros de 0 al 1000 (se llamará 'lista5')\n",
    "\n",
    "lista5=list(range(0,1001,1))\n",
    "#print(lista5)     #Si se quita el '#' se puede verificar que la lista si contiene los elementos indicados\n",
    "\n",
    "#Guarda en una variable una lista con los números pares de lista5 usando ciclos y condicionales.\n",
    "#Imprime los últimos 10 elementos de la lista final.\n",
    "\n",
    "pares=[] #Nuestra nueva lista se llama 'pares'\n",
    "for i in lista5: \n",
    "    if i%2==0 : #El if incluye la condición para ver si el número es par o no mediante la división entera con %\n",
    "        pares.append(i) #Si el número es par, se escribe en la lista 'pares'\n",
    "#print(pares)      #Si se quita el '#' se puede verificar que la lista si contiene los números pares de la lista5\n",
    "    \n",
    "ultimos_pares= pares[-10:] # es válido también lista[7:10]\n",
    "print(ultimos_pares)\n",
    "\n",
    "\n",
    "#Guarda en una variable una lista con los números impares usando listas comprensivas.\n",
    "\n",
    "impares=[] #Esta es la nueva lista que tendrá los números impares\n",
    "lista6 = [impares.append(i) for i in lista5 if i%2!=0] #La lista comprensiva hace el código un poco más pequeño\n",
    "#print(impares)   #Si se quita el '#' se puede verificar que la lista si contiene los números impares de la lista5\n",
    "\n",
    "primeros_impares=impares[:10]\n",
    "print(primeros_impares)"
   ]
  },
  {
   "cell_type": "markdown",
   "id": "00462693",
   "metadata": {},
   "source": [
    "### Ejercicio 6 (2 puntos): Aproximación de $\\pi$\n",
    "Una de las formas más sencillas de aproximar $\\pi$ es mediante la siguiente serie infinita de Leibniz:\n",
    "$$\\frac{\\pi}{4} = \\sum_{n=0}^{\\infty}\\frac{(-1)^{n}}{(2n+1)} = \\frac{1}{1} - \\frac{1}{3} + \\frac{1}{5}-\\frac{1}{7}+\\frac{1}{9}-...$$\n",
    "\n",
    "crea una función para aproximar $\\pi$ utilizando la serie de Leibniz. Usa n = 100000 e imprime el valor de tu aproximación tanto el valor de $\\frac{\\pi}{4}$ como $\\pi$.\n",
    "\n",
    "El valor de $\\pi$ se obtiene al despejar:\n",
    "$$\\pi = 4 * \\left(\\sum_{n=0}^{\\infty}\\frac{(-1)^{n}}{(2n+1)} \\right)$$\n",
    "\n",
    "La siguiente celda de codigo ofrece el valor de $\\frac{\\pi}{4}$"
   ]
  },
  {
   "cell_type": "code",
   "execution_count": 1,
   "id": "a4a31d07",
   "metadata": {},
   "outputs": [
    {
     "name": "stdout",
     "output_type": "stream",
     "text": [
      "El valor de pi/4 es aproximadamente 0.7853981633974483\n"
     ]
    }
   ],
   "source": [
    "import numpy as np\n",
    "#El valor de pi/4\n",
    "print(\"El valor de pi/4 es aproximadamente {}\".format(np.pi/4))"
   ]
  },
  {
   "cell_type": "code",
   "execution_count": 2,
   "id": "3ef49d77",
   "metadata": {},
   "outputs": [
    {
     "name": "stdout",
     "output_type": "stream",
     "text": [
      "El valor de pi/4 es aproximadamente  0.7854006633724301\n",
      "El valor de pi es aproximadamente  3.1416026534897203\n"
     ]
    },
    {
     "data": {
      "text/plain": [
       "{3.1416026534897203}"
      ]
     },
     "execution_count": 2,
     "metadata": {},
     "output_type": "execute_result"
    }
   ],
   "source": [
    "#Creando una función para aproximar pi y pi/4 utilizando la serie de Leibniz\n",
    "\n",
    "def Leibniz (n):\n",
    "    valor=0\n",
    "    contador=list(range(0,n+1,1))\n",
    "    for i in contador:\n",
    "        if i<=n:\n",
    "            valor=valor+(((-1)**i))/((2*i)+1)\n",
    "    print(\"El valor de pi/4 es aproximadamente \",valor)\n",
    "    return{valor}\n",
    "\n",
    "\n",
    "def Leibniz2 (n):\n",
    "    valor=0\n",
    "    contador=list(range(0,n+1,1))\n",
    "    for i in contador:\n",
    "        if i<=n:\n",
    "            valor=valor+(((-1)**i))/((2*i)+1)\n",
    "    total=4*valor\n",
    "    print(\"El valor de pi es aproximadamente \",total)\n",
    "    return{total}\n",
    "\n",
    "\n",
    "\n",
    "Leibniz(100000)\n",
    "\n",
    "Leibniz2(100000)\n"
   ]
  },
  {
   "cell_type": "markdown",
   "id": "d0c28e6e",
   "metadata": {},
   "source": [
    "### Ejercicio 7 (1 puntos): Identificador de vocales\n",
    "\n",
    "Escribe una función que reciba una cadena, por ejemplo 'el pErro de la tiA chOnita' y regrese la cantidad de vocales que contiene. La función debe contener varios casos de prueba, if, elif y else. Con la cadena de ejemplo, imprime en pantalla el resultado de la función (10).\n",
    "\n",
    "Para conocer si un caracter es una vocal, primero debes descomponer la cadena en caracteres individuales. Para ello observa el siguiente código:"
   ]
  },
  {
   "cell_type": "code",
   "execution_count": 6,
   "id": "55a65e0f",
   "metadata": {},
   "outputs": [
    {
     "name": "stdout",
     "output_type": "stream",
     "text": [
      "['e', 'l', ' ', 'p', 'e', 'r', 'r', 'o', ' ', 'd', 'e', ' ', 'l', 'a', ' ', 't', 'i', 'a', ' ', 'c', 'h', 'o', 'n', 'i', 't', 'a']\n"
     ]
    }
   ],
   "source": [
    "# Divide una cadena en caracteres individuales\n",
    "cadena_prueba = 'el pErro de la tiA chOnita'\n",
    "caracteres_individuales = list(cadena_prueba)\n",
    "print(caracteres_individuales)"
   ]
  },
  {
   "cell_type": "code",
   "execution_count": 1,
   "id": "ac823a9b",
   "metadata": {},
   "outputs": [
    {
     "name": "stdout",
     "output_type": "stream",
     "text": [
      "['e', 'l', ' ', 'p', 'E', 'r', 'r', 'o', ' ', 'd', 'e', ' ', 'l', 'a', ' ', 't', 'i', 'A', ' ', 'c', 'h', 'O', 'n', 'i', 't', 'a']\n",
      "En esta cadena hay 10 vocales\n"
     ]
    }
   ],
   "source": [
    "#Identificando las vocales\n",
    "\n",
    "cadena_prueba = 'el pErro de la tiA chOnita'  #Se puede sustituir la cadena por cualquier otra\n",
    "contador_vocales=0\n",
    "caracteres_individuales = list(cadena_prueba)\n",
    "print(caracteres_individuales)\n",
    "\n",
    "#Despues de dividir la cadena en carácteres individuales, checaremos en cada letra si es alguna vocal\n",
    "for k in caracteres_individuales:\n",
    "    if (k=='a') or (k=='A'):   #Vemos si la letra es igual a la vocal 'a' o 'A'\n",
    "        contador_vocales += 1   #Si la letra sí es igual a la vocal, se le aumemta 1 al contador\n",
    "    elif k=='e' or (k=='E'):\n",
    "        contador_vocales += 1\n",
    "    elif k=='i' or (k=='I'):\n",
    "        contador_vocales += 1\n",
    "    elif k=='o' or (k=='O'):\n",
    "        contador_vocales += 1\n",
    "    elif k=='u' or (k=='U'):\n",
    "        contador_vocales += 1\n",
    "        \n",
    "print('En esta cadena hay', contador_vocales , 'vocales') "
   ]
  },
  {
   "cell_type": "markdown",
   "id": "fb89fa24",
   "metadata": {},
   "source": [
    "### Ejercicio 8 (2 puntos):\n",
    "\n",
    "Escribe una clase \"calculadora\" que regrese el resultado de las operaciones de suma, resta, multiplicacion, division, modulo y potencia. La clase debe contener un método para cada operación.\n",
    "\n",
    "Los métodos que pudiesen presentar errores como division entre cero, deben ser manejados de tal manera que el programa no imprima ningun error (vimos una clausula para hacer esto).\n",
    "\n",
    "Adicional a esto, los métodos modulo y potencia deben ser generales, es decir, deben funcionar para cualquier número entero positivo (es un parámetro extra del método). Por ejemplo, la potencia de 2 elevado a 3 es 8, la potencia de 5 elevado a 3 es 125, etc.\n",
    "\n",
    "Crea una instancia de la clase calculadora y prueba cada uno de los métodos, con valores de tu elección. Para los métodos que pudiesen presentar errores da dos ejemplos, uno totalmente funcional (3/5 por ejemplo) y otro que sea conflictivo pero que no regresa ningún error (4/0 por ejemplo)."
   ]
  },
  {
   "cell_type": "code",
   "execution_count": 2,
   "id": "7a971f52",
   "metadata": {},
   "outputs": [],
   "source": [
    "#Calculadora\n",
    "\n",
    "class Calculadora():\n",
    "\n",
    "    def __init__(self, marca):\n",
    "        self.marca = marca\n",
    "    \n",
    "    def suma(self, a, b): #Función para realizar la suma a+b y regresar solamente el valor\n",
    "        return a + b\n",
    "    \n",
    "    def resta(self, a, b): #Función para realizar la resta a-b\n",
    "        return a - b\n",
    "\n",
    "    def multiplicacion(self, a, b): #Función para realizar la multiplicación a por b\n",
    "        return a*b\n",
    "    \n",
    "    def division(self, a, b): #Función para realizar la división (y evitar las divisiones entre 0)\n",
    "        try:\n",
    "            return a/b\n",
    "        except: \n",
    "            print('Esta división no se puede realizar pues el resultado es indefinido')\n",
    "            return None\n",
    "        \n",
    "    \n",
    "    def potencia(self, a, b): #Función para realizar la potencia de a elevado a la b\n",
    "        return a**b\n",
    "            \n",
    "    def modulos(self, a, b): #Función para realizar el modulo de a entre b\n",
    "        return a%b\n",
    "    \n",
    "# Instanciamos una calculadora\n",
    "calculadora = Calculadora('Casio')"
   ]
  },
  {
   "cell_type": "code",
   "execution_count": 3,
   "id": "f19d216b",
   "metadata": {},
   "outputs": [
    {
     "name": "stdout",
     "output_type": "stream",
     "text": [
      "9\n",
      "-2\n",
      "6\n",
      "1.8\n",
      "64\n",
      "2\n",
      "Esta división no se puede realizar pues el resultado es indefinido\n"
     ]
    }
   ],
   "source": [
    "print(calculadora.suma(5, 4))\n",
    "print(calculadora.resta(10, 12))\n",
    "print(calculadora.multiplicacion(2, 3))\n",
    "print(calculadora.division(9, 5))\n",
    "print(calculadora.potencia(4, 3))\n",
    "print(calculadora.modulos(14, 3))\n",
    "calculadora.division(7, 0)\n"
   ]
  },
  {
   "cell_type": "markdown",
   "id": "c6e4da53",
   "metadata": {},
   "source": [
    "### Ejercicio de puntos extras opcional (1 punto):\n",
    "\n",
    "Supóngamos que tenemos una lista de números enteros y queremos encontrar el número más grande. Por ejemplo, si la lista es `[1, 2, 3, 4, 5]` el número más grande es 5. Crea una función que encuentre el número más grande en una lista de números. La función debe regresar el número más grande y el índice en el que se encuentra. Prueba la función con una lista de números de tu elección."
   ]
  },
  {
   "cell_type": "code",
   "execution_count": 4,
   "id": "fcb0d9b0",
   "metadata": {},
   "outputs": [],
   "source": [
    "#Ejercicio extra uno\n",
    "\n",
    "def numero_mayor (lista):\n",
    "    max_valor=None #Usamos None para poder crear la variable pero aún no asignarle algún valor en particular\n",
    "    for i in lista: #Iteramos en todos los valores de la lista \n",
    "        if (max_valor is None or i>max_valor): #con el i>max_valor estamos eligiendo a la i más grande de todas en la lista\n",
    "            max_valor=i\n",
    "            posicion=lista.index(i) #Ahora guardamos la posición en la que se encuentra nuestro máximo valor\n",
    "            \n",
    "    print('El valor máximo es', max_valor , 'y se encuentra en la posición', posicion)"
   ]
  },
  {
   "cell_type": "code",
   "execution_count": 5,
   "id": "340fc2fb",
   "metadata": {},
   "outputs": [
    {
     "name": "stdout",
     "output_type": "stream",
     "text": [
      "El valor máximo es 95 y se encuentra en la posición 2\n"
     ]
    }
   ],
   "source": [
    "numeros=[56,74,95,12,46,63]\n",
    "numero_mayor(numeros)"
   ]
  },
  {
   "cell_type": "markdown",
   "id": "525883b3",
   "metadata": {},
   "source": [
    "### Ejercicio de puntos extras opcional (3 puntos):\n",
    "\n",
    "Supóngamos que tenemos un dado convencional de 6 caras. Crea una función que simule el lanzamiento de un dado. La función debe regresar un número aleatorio entre 1 y 6.\n",
    "\n",
    "Sabemos que la probabilidad de que salga un número es de $\\frac{1}{6}$, es decir, la probabilidad de que salga un 1 es de $\\frac{1}{6}$, la probabilidad de que salga un 2 es de $\\frac{1}{6}$, etc.\n",
    "\n",
    "* Prueba la función con 6 lanzamientos, en una celda markdown explica porqué el resultado es dificilmente [1, 2, 3, 4, 5, 6].\n",
    "\n",
    "* Prueba la función con 1000 lanzamientos, crea una grafica de barras de los resultados (investiga como puedes graficar los resultados en una grafica de barras) y explica a que distribucion se parece y porqué es así.\n",
    "\n",
    "Hint: Para crear los números aleatorios, puedes usar la función `random.randint()`. O bien, usar el modulo numpy para crearlos. Para graficar los resultados, puedes usar la libreria matplotlib, seaborn, plotly o cualquiera que se te haga más fácil."
   ]
  },
  {
   "cell_type": "code",
   "execution_count": 8,
   "id": "2c17dbf5",
   "metadata": {},
   "outputs": [
    {
     "name": "stdout",
     "output_type": "stream",
     "text": [
      "2\n",
      "1\n",
      "4\n",
      "3\n",
      "2\n",
      "3\n"
     ]
    }
   ],
   "source": [
    "#Ejercicio extra 2\n",
    "\n",
    "import random #Importamos la librería 'random'\n",
    "for i in range(6): #Realizamos 6 lanzamientos del dado\n",
    "    dado= random.randint(1, 6) #Se genera un entero aleatorio entre 1 y 6\n",
    "    print(dado)"
   ]
  },
  {
   "cell_type": "markdown",
   "id": "85f3efd0",
   "metadata": {},
   "source": [
    "Dificilmente el resultado será [1,2,3,4,5,6] porque la librería de 'random' nos da números **pseudoaleatorios**. <br>\n",
    "<br>\n",
    "Que la librería sea pseudoaleatoria, nos dice que en algún momento (tal vez despues de cientos o miles de 'tiradas') se volverán a repetir los números en orden como siguiendo un patrón ya que, a fin de cuentas, la librería ya está programada. <br>\n",
    "<br>\n",
    "Además, recordemos que si la probabilidad es de 1/6 en cada tirada, nada nos asegura que nos tengan que salir números distintos en todas ellas pues la probabilidad no se está modificando.\n"
   ]
  },
  {
   "cell_type": "code",
   "execution_count": 25,
   "id": "8d9efed2",
   "metadata": {},
   "outputs": [
    {
     "data": {
      "text/plain": [
       "Text(0, 0.5, 'Frecuencia')"
      ]
     },
     "execution_count": 25,
     "metadata": {},
     "output_type": "execute_result"
    },
    {
     "data": {
      "image/png": "[encoded data removed]",
      "text/plain": [
       "<Figure size 640x480 with 1 Axes>"
      ]
     },
     "metadata": {},
     "output_type": "display_data"
    }
   ],
   "source": [
    "#Elaborando 1000 lanzamientos \n",
    "\n",
    "import matplotlib.pyplot as plt #Librería necesaria para graficar \n",
    "import random\n",
    "\n",
    "tiradas=[]\n",
    "resultados=[]\n",
    "for i in range(1000): #Hacemos 1000 tiradas del dado\n",
    "    dado= random.randint(1, 6) \n",
    "    tiradas.append(i) #Vamos metiendo el número de tiradas en una lista para poder graficarlos más facilmente\n",
    "    resultados.append(dado) #Vamos metiendo el número que salió del dado en una lista para poder graficarlos más facilmente \n",
    "\n",
    "#Graficando con un histograma para comparar las frecuencias de las caras del dado\n",
    "plt.hist(resultados,bins=25,color='darkcyan', rwidth=0.8)\n",
    "plt.title(\"Histograma de los valores Zn generados\")\n",
    "plt.xlabel(\"Total\")\n",
    "plt.ylabel(\"Frecuencia\")\n"
   ]
  },
  {
   "cell_type": "markdown",
   "id": "b7c13a55",
   "metadata": {},
   "source": [
    "La distribución que presenta pareciera una distribución uniforme pues las frecuencias de aparición de cada cara del dado son casi iguales. <br>\n",
    "Entre más tiradas se hagan del dado, las frecuencias se van pareciendo más. <br>\n",
    "Podemos decir entonces que este dado es bastante *justo* .\n"
   ]
  },
  {
   "cell_type": "code",
   "execution_count": null,
   "id": "a8aa525c",
   "metadata": {},
   "outputs": [],
   "source": []
  }
 ],
 "metadata": {
  "kernelspec": {
   "display_name": "Python 3 (ipykernel)",
   "language": "python",
   "name": "python3"
  },
  "language_info": {
   "codemirror_mode": {
    "name": "ipython",
    "version": 3
   },
   "file_extension": ".py",
   "mimetype": "text/x-python",
   "name": "python",
   "nbconvert_exporter": "python",
   "pygments_lexer": "ipython3",
   "version": "3.9.13"
  },
  "vscode": {
   "interpreter": {
    "hash": "ad2bdc8ecc057115af97d19610ffacc2b4e99fae6737bb82f5d7fb13d2f2c186"
   }
  }
 },
 "nbformat": 4,
 "nbformat_minor": 5
}
